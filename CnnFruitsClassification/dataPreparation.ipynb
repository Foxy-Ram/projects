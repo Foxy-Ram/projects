{
 "cells": [
  {
   "cell_type": "markdown",
   "id": "4f4c7cb5-ed2b-4439-a704-50a4b7d45b93",
   "metadata": {},
   "source": [
    "Preparation of data, the images are saved into with in there respective directories."
   ]
  },
  {
   "cell_type": "code",
   "execution_count": null,
   "id": "31aff8bf-41eb-4b8a-8c82-d12870b4567e",
   "metadata": {},
   "outputs": [],
   "source": [
    "# Download apple\n",
    "from bing_image_downloader import downloader\n",
    "\n",
    "downloader.download(query=\"apple\",limit=20,output_dir=\"fruits_train/images\")"
   ]
  },
  {
   "cell_type": "code",
   "execution_count": null,
   "id": "d14eefad-4b12-4a42-9247-39def4de908d",
   "metadata": {},
   "outputs": [],
   "source": [
    "# Download banana\n",
    "from bing_image_downloader import downloader\n",
    "\n",
    "downloader.download(query=\"banana\",limit=20,output_dir=\"fruits_train/images\")"
   ]
  },
  {
   "cell_type": "code",
   "execution_count": null,
   "id": "d51d7665-a401-4a49-9682-5a6e7e884d96",
   "metadata": {},
   "outputs": [],
   "source": [
    "# Download guava\n",
    "from bing_image_downloader import downloader\n",
    "\n",
    "downloader.download(query=\"guava\",limit=20,output_dir=\"fruits_train/images\")"
   ]
  },
  {
   "cell_type": "markdown",
   "id": "78ab3d0e-d3c1-4218-a017-07b266600a03",
   "metadata": {},
   "source": [
    "~ Checking image count and sample."
   ]
  },
  {
   "cell_type": "code",
   "execution_count": 24,
   "id": "6b65017a-f5b7-436a-88bb-b29379bf751b",
   "metadata": {},
   "outputs": [],
   "source": [
    "import os\n",
    "import glob"
   ]
  },
  {
   "cell_type": "code",
   "execution_count": 25,
   "id": "bdff3ff9-e48a-4bf0-ad2d-dcc68089720b",
   "metadata": {},
   "outputs": [
    {
     "name": "stdout",
     "output_type": "stream",
     "text": [
      "Number of apple's images -  20  =>  ['Image_1.jpg', 'Image_10.jpg']\n",
      "Number of banana's images -  20  =>  ['Image_1.jpg', 'Image_10.jpg']\n",
      "Number of guava's images -  20  =>  ['Image_1.jpg', 'Image_10.jpg']\n"
     ]
    }
   ],
   "source": [
    "# Below are the directories\n",
    "apple_path = \"images/apple\"\n",
    "banana_path = \"images/banana\"\n",
    "guava_path = \"images/guava\"\n",
    "\n",
    "directories = [apple_path, banana_path, guava_path]\n",
    "items = ['apple', 'banana', 'guava']\n",
    "i=0\n",
    "\n",
    "for directory in directories: \n",
    "    \n",
    "    file_list = os.listdir(directory)\n",
    "    file_list.remove('.ipynb_checkpoints') # Avoid index '0' it is an '.ipynb_checkpoints'\n",
    "    \n",
    "    print(f\"Number of {items[i]}'s images - \", len(file_list), \" => \", file_list[0:2]) # Shows bit sample\n",
    "    \n",
    "    i+=1"
   ]
  },
  {
   "cell_type": "markdown",
   "id": "e6749f08-702d-4de3-85aa-38bdbe5fbaf2",
   "metadata": {},
   "source": [
    "> Data exploration and Manipulation setup..."
   ]
  },
  {
   "cell_type": "code",
   "execution_count": 26,
   "id": "951f2fd2-4929-40c1-99b7-ff93c9f946de",
   "metadata": {},
   "outputs": [],
   "source": [
    "from PIL import Image\n",
    "import numpy as np\n",
    "import matplotlib.pyplot as plt"
   ]
  },
  {
   "cell_type": "code",
   "execution_count": 27,
   "id": "98a0f2cd-b381-4bfb-8ffd-79425ac63990",
   "metadata": {},
   "outputs": [],
   "source": [
    "# Manipulating the size of images and displaying images\n",
    "\n",
    "def show(directory_of_fruits, index=1, size=32, s_limit=(1, 256), figsize=(5,5), return_array= False ):\n",
    "    \n",
    "    if (size > 0) and (size <= 256):\n",
    "        \n",
    "        images_list = os.listdir(directory_of_fruits)\n",
    "        \n",
    "        if images_list[0] == \".ipynb_checkpoints\":\n",
    "            images_list.remove(\".ipynb_checkpoints\") # Avoid index '0' it is an '.ipynb_checkpoints'\n",
    "\n",
    "        img = Image.open( os.path.join( directory_of_fruits, images_list[index] ) )\n",
    "        img = img.resize( (size,size) )\n",
    "        array = np.asarray( img )\n",
    "        \n",
    "        if return_array!= True:\n",
    "            plt.figure(figsize = figsize)\n",
    "            plt.imshow(array)\n",
    "            \n",
    "            return\n",
    "        \n",
    "        else:\n",
    "            return array\n",
    "        \n",
    "    else:\n",
    "           raise Exception(f\"Violating the size, limit must in between ({s_limit[0]}, {s_limit[1]})\")\n",
    "            "
   ]
  },
  {
   "cell_type": "markdown",
   "id": "cbc20025-4420-4793-8353-f4cc26a5fb05",
   "metadata": {},
   "source": [
    "~ Delineating the data."
   ]
  },
  {
   "cell_type": "code",
   "execution_count": 28,
   "id": "59df2495-f90f-4822-963c-c78474614bf6",
   "metadata": {},
   "outputs": [
    {
     "data": {
      "image/png": "[encoded data removed]",
      "text/plain": [
       "<Figure size 150x150 with 1 Axes>"
      ]
     },
     "metadata": {},
     "output_type": "display_data"
    },
    {
     "data": {
      "image/png": "[encoded data removed]",
      "text/plain": [
       "<Figure size 150x150 with 1 Axes>"
      ]
     },
     "metadata": {},
     "output_type": "display_data"
    }
   ],
   "source": [
    "show( apple_path, index = 7, size=32, figsize = (1.5,1.5) )\n",
    "show( guava_path, index = 0, size=32, figsize = (1.5,1.5) )"
   ]
  },
  {
   "cell_type": "markdown",
   "id": "33ae05b6-82ae-4716-b7ab-5aa085ecfb4d",
   "metadata": {},
   "source": [
    "~ Lets get an array of an image by specifying -> ' return_array = True '"
   ]
  },
  {
   "cell_type": "code",
   "execution_count": 29,
   "id": "1cc9c4d8-b05d-4acf-8a52-c80c7b75ceb1",
   "metadata": {
    "tags": []
   },
   "outputs": [
    {
     "data": {
      "text/plain": [
       "(32, 32, 3)"
      ]
     },
     "execution_count": 29,
     "metadata": {},
     "output_type": "execute_result"
    }
   ],
   "source": [
    "show( apple_path, 7, size=32, figsize = (1.5,1.5), return_array=True ).shape #Checking the shape of an array"
   ]
  },
  {
   "cell_type": "markdown",
   "id": "62186a2c-d472-4f3c-8f15-77d378fa04b6",
   "metadata": {},
   "source": [
    ">Data augmentation.."
   ]
  },
  {
   "cell_type": "markdown",
   "id": "3c1ecd6b-dc8c-4bdd-bf3b-2dfb05962531",
   "metadata": {},
   "source": [
    "~ The module augmentor raising an error abruptly Not often that sacking process in middle but it is going to download\n",
    "some images. Run the cell even an error check the size of folder using 'OS module' till you get desired size of images .\n"
   ]
  },
  {
   "cell_type": "raw",
   "id": "a92c773a-2396-4796-92fe-1e54264f68de",
   "metadata": {},
   "source": [
    "import Augmentor as aug\n",
    "\n",
    "augmentor = aug.Pipeline(\"images\")\n",
    "\n",
    "augmentor.flip_left_right(0.4)\n",
    "augmentor.rotate(0.4, 10, 10)\n",
    "augmentor.skew(0.4, 0.3)\n",
    "\n",
    "augmentor.zoom(probability = 0.2, min_factor = 1.1, max_factor = 1.5)\n",
    "augmentor.flip_top_bottom(0.1)\n",
    "\n",
    "augmentor.skew_left_right(0.4,0.4)\n",
    "augmentor.skew_top_bottom(0.3,0.2)\n",
    "augmentor.sample(600)\n"
   ]
  },
  {
   "cell_type": "markdown",
   "id": "eaab6a4c-63f9-4097-9c9a-e2913b3b5446",
   "metadata": {},
   "source": [
    "~ Checking the number of images after data augmentation using Augmentor in the output directory."
   ]
  },
  {
   "cell_type": "code",
   "execution_count": 30,
   "id": "f37e7828-4f38-4454-8d30-2f8e073f4d73",
   "metadata": {},
   "outputs": [
    {
     "name": "stdout",
     "output_type": "stream",
     "text": [
      "Apple  =>  428\n",
      "Banana  =>  423\n",
      "Guava  =>  447\n"
     ]
    }
   ],
   "source": [
    "\n",
    "a_path = 'images/output/apple' \n",
    "b_path = 'images/output/banana'\n",
    "g_path = 'images/output/guava'\n",
    "\n",
    "items_ = [\"Apple\",\"Banana\",\"Guava\"]\n",
    "paths  = [a_path,b_path,g_path]\n",
    "i=0\n",
    "\n",
    "for j in paths:\n",
    "    temp = os.listdir(j)\n",
    "    \n",
    "    # Avoid the .ipynb_checkpoints if it is presents in your list.\n",
    "    \n",
    "    if temp[0] == \".ipynb_checkpoints\":\n",
    "        temp.remove(\".ipynb_checkpoints\") \n",
    "        \n",
    "    print( items_[i],\" => \",len(temp) )\n",
    "    \n",
    "    i -=- 1\n",
    "    "
   ]
  },
  {
   "cell_type": "code",
   "execution_count": 31,
   "id": "6b477c3b-13c3-4548-8a57-a6366d9cb0b1",
   "metadata": {},
   "outputs": [
    {
     "data": {
      "image/png": "[encoded data removed]",
      "text/plain": [
       "<Figure size 400x400 with 1 Axes>"
      ]
     },
     "metadata": {},
     "output_type": "display_data"
    }
   ],
   "source": [
    "show( a_path, 407, size=32, figsize = (4,4) )"
   ]
  },
  {
   "cell_type": "markdown",
   "id": "8df801cf-3366-4d40-999d-98895f1c16cc",
   "metadata": {},
   "source": [
    ">Converting & Combining"
   ]
  },
  {
   "cell_type": "markdown",
   "id": "10da78a9-aa11-4155-a9cc-51a602e4b7f9",
   "metadata": {},
   "source": [
    "~ Converting all the images available in output folder into an array and combining them as a 4d array( Data set )."
   ]
  },
  {
   "cell_type": "code",
   "execution_count": 66,
   "id": "ab09801e-7d46-44af-99bc-50953b3757d1",
   "metadata": {},
   "outputs": [],
   "source": [
    "def get_arrays_of_folder(folder_path):\n",
    "    \n",
    "    arrays = []\n",
    "    \n",
    "    for i in range(len( os.listdir(folder_path) ) ):\n",
    "        \n",
    "        arrays.append(show(folder_path, i, size=32, figsize = (4,4), return_array=True))\n",
    "        \n",
    "    print( len_ := len(arrays))\n",
    "    return np.stack(arrays) , len_\n",
    "\n",
    "# This function prints length of array and aslo returns the arrays of all images in given path."
   ]
  },
  {
   "cell_type": "markdown",
   "id": "b3649375-382c-44a2-8211-dfc2ef04b922",
   "metadata": {},
   "source": [
    "~ Creating the X data."
   ]
  },
  {
   "cell_type": "code",
   "execution_count": 67,
   "id": "3f9bf085-ff73-4863-8928-d50d8a19665e",
   "metadata": {},
   "outputs": [
    {
     "name": "stdout",
     "output_type": "stream",
     "text": [
      "428\n"
     ]
    }
   ],
   "source": [
    "apples_array , apples_len = get_arrays_of_folder(a_path)"
   ]
  },
  {
   "cell_type": "code",
   "execution_count": 70,
   "id": "d780fbff-f229-4eda-9ecb-b81dd42eaf79",
   "metadata": {},
   "outputs": [
    {
     "name": "stdout",
     "output_type": "stream",
     "text": [
      "423\n"
     ]
    }
   ],
   "source": [
    "bananas_array , bananas_len = get_arrays_of_folder(b_path)"
   ]
  },
  {
   "cell_type": "code",
   "execution_count": 71,
   "id": "52e4a44f-27f2-4649-b191-d93fd716adc2",
   "metadata": {},
   "outputs": [
    {
     "name": "stdout",
     "output_type": "stream",
     "text": [
      "447\n"
     ]
    }
   ],
   "source": [
    "guavas_array , guavas_len = get_arrays_of_folder(g_path)"
   ]
  },
  {
   "cell_type": "markdown",
   "id": "f2e134bb-e79d-415b-b1f9-0be1992cc58a",
   "metadata": {},
   "source": [
    "~ Creating the Y data lables for above arrays."
   ]
  },
  {
   "cell_type": "code",
   "execution_count": 78,
   "id": "2d8030c3-7780-4606-991f-e229c89f198f",
   "metadata": {},
   "outputs": [],
   "source": [
    "apples_lable = np.array([0] * apples_len)\n",
    "\n",
    "bananas_lable = np.array([1] * bananas_len)\n",
    "\n",
    "guavas_lable = np.array([2] * guavas_len)"
   ]
  },
  {
   "cell_type": "markdown",
   "id": "23acc0a2-0f20-4555-a42a-5b8498079911",
   "metadata": {},
   "source": [
    "~ Combinimg all the X data and Y data."
   ]
  },
  {
   "cell_type": "code",
   "execution_count": 99,
   "id": "ec608b76-43e4-4f73-a644-d65545b228c7",
   "metadata": {},
   "outputs": [],
   "source": [
    "x_data = np.concatenate([apples_array, bananas_array, guavas_array])\n",
    "y_data = np.concatenate([apples_lable, bananas_lable, guavas_lable])"
   ]
  },
  {
   "cell_type": "markdown",
   "id": "dea0e0c0-2b46-41cb-a37e-0aeb335b2579",
   "metadata": {},
   "source": [
    "~ Lets save our data as two files that is X & Y."
   ]
  },
  {
   "cell_type": "code",
   "execution_count": 121,
   "id": "ff46e704-a5d7-4ecf-b2c6-a04b746a519b",
   "metadata": {},
   "outputs": [],
   "source": [
    "np.save('X_data',x_data)\n",
    "\n",
    "np.save('Y_data',y_data)"
   ]
  },
  {
   "cell_type": "markdown",
   "id": "38ec5fc2-9ae6-4330-91fc-68ee496ca98f",
   "metadata": {},
   "source": [
    "~ Load them for to test is it working ?"
   ]
  },
  {
   "cell_type": "code",
   "execution_count": 134,
   "id": "871bfac6-18fc-401d-9077-cf56876ed3a8",
   "metadata": {},
   "outputs": [
    {
     "name": "stdout",
     "output_type": "stream",
     "text": [
      "1 \n",
      "\n"
     ]
    },
    {
     "data": {
      "image/png": "[encoded data removed]",
      "text/plain": [
       "<Figure size 300x300 with 1 Axes>"
      ]
     },
     "metadata": {},
     "output_type": "display_data"
    }
   ],
   "source": [
    "X = np.load(\"X_data.npy\")\n",
    "Y = np.load(\"Y_data.npy\")\n",
    "\n",
    "index_ = 428\n",
    "\n",
    "plt.figure(figsize=(3,3))\n",
    "plt.imshow(X[ index_ ])\n",
    "print(Y[ index_ ],'\\n')"
   ]
  },
  {
   "cell_type": "markdown",
   "id": "3d295981-a300-4e52-bf9c-47ff63dddf79",
   "metadata": {},
   "source": [
    ">>> The Data preparation is accomplished ."
   ]
  }
 ],
 "metadata": {
  "kernelspec": {
   "display_name": "Python [conda env:tf_use]",
   "language": "python",
   "name": "conda-env-tf_use-py"
  },
  "language_info": {
   "codemirror_mode": {
    "name": "ipython",
    "version": 3
   },
   "file_extension": ".py",
   "mimetype": "text/x-python",
   "name": "python",
   "nbconvert_exporter": "python",
   "pygments_lexer": "ipython3",
   "version": "3.8.0"
  }
 },
 "nbformat": 4,
 "nbformat_minor": 5
}

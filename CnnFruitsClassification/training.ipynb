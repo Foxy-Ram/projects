{
 "cells": [
  {
   "cell_type": "markdown",
   "id": "4556e404-e7bd-4124-9686-e582ef7e323c",
   "metadata": {},
   "source": [
    "BULDINGING AN IMAGE CLASSIFICATION MODEL USING CNN neural network .\n"
   ]
  },
  {
   "cell_type": "code",
   "execution_count": 2,
   "id": "6df28a03-251a-4d34-a257-19b38cfa754e",
   "metadata": {},
   "outputs": [],
   "source": [
    "import numpy as np\n",
    "import matplotlib.pyplot as plt\n",
    "import os"
   ]
  },
  {
   "cell_type": "markdown",
   "id": "b2f4348a-0bd9-4ffc-8453-b1b63b0bcec7",
   "metadata": {},
   "source": [
    "1. Loading the data"
   ]
  },
  {
   "cell_type": "code",
   "execution_count": 4,
   "id": "dfe5d800-3984-4343-bd47-0c0a9d78b0bc",
   "metadata": {},
   "outputs": [
    {
     "name": "stdout",
     "output_type": "stream",
     "text": [
      "(1298, 32, 32, 3)  |  (1298,)\n"
     ]
    }
   ],
   "source": [
    "x = np.load(\"X_data.npy\")\n",
    "y = np.load(\"Y_data.npy\")\n",
    "print(x.shape,\" | \", y.shape)"
   ]
  },
  {
   "cell_type": "markdown",
   "id": "0c7c3ef6-b9e1-4493-80b7-38c7d63ba6cd",
   "metadata": {},
   "source": [
    "2. Testing the sample image \n",
    "   "
   ]
  },
  {
   "cell_type": "markdown",
   "id": "fb14e47c-1559-46db-8ba9-b7c853b2c2a5",
   "metadata": {},
   "source": [
    "NOTE:- Apple - 0 | Banana - 1 | Guava - 2"
   ]
  },
  {
   "cell_type": "code",
   "execution_count": 19,
   "id": "d631b5b5-5076-45ff-b058-13b019084a37",
   "metadata": {},
   "outputs": [
    {
     "name": "stdout",
     "output_type": "stream",
     "text": [
      "y -> 1189 \n",
      "\n"
     ]
    },
    {
     "data": {
      "image/png": "[encoded data removed]",
      "text/plain": [
       "<Figure size 200x200 with 1 Axes>"
      ]
     },
     "metadata": {},
     "output_type": "display_data"
    }
   ],
   "source": [
    "def sample_plot(index: int)-> None:\n",
    "    \n",
    "    plt.figure(figsize = (2,2))\n",
    "    plt.imshow(x[index])\n",
    "    print(\"y -> {} \\n\".format(index))\n",
    "    \n",
    "sample_plot(1189)"
   ]
  },
  {
   "cell_type": "markdown",
   "id": "e30812f6-fe42-4762-8549-b229ae223d26",
   "metadata": {},
   "source": [
    "3. Let's split the data for training and testing"
   ]
  },
  {
   "cell_type": "code",
   "execution_count": 20,
   "id": "5fa31db0-ebbb-4e20-8780-1689c4fd3dfe",
   "metadata": {},
   "outputs": [],
   "source": [
    "Y = y.reshape(-1,1) # To perform training we should have to reshape the y lable from 1d to 2d."
   ]
  },
  {
   "cell_type": "code",
   "execution_count": 37,
   "id": "07154de0-1a41-44a2-bb6c-a470bd038280",
   "metadata": {},
   "outputs": [],
   "source": [
    "from sklearn.model_selection import train_test_split\n",
    "\n",
    "x_train, x_test, y_train, y_test = train_test_split(x, Y, test_size=0.20, random_state = 2024)"
   ]
  },
  {
   "cell_type": "markdown",
   "id": "498b9b14-8313-4fff-956e-13246976d946",
   "metadata": {},
   "source": [
    "4. Check the sizes using 'len()'"
   ]
  },
  {
   "cell_type": "code",
   "execution_count": 39,
   "id": "826cdbde-24cb-4c31-a5a3-29a45442abac",
   "metadata": {},
   "outputs": [
    {
     "name": "stdout",
     "output_type": "stream",
     "text": [
      "1038 1038 260 260\n"
     ]
    }
   ],
   "source": [
    "print(len(x_train), len(y_train), len(x_test), len(y_test))"
   ]
  },
  {
   "cell_type": "markdown",
   "id": "ba2c832c-0f97-4d00-96df-42f5f63b5cba",
   "metadata": {},
   "source": [
    "5. Building an CNN model "
   ]
  },
  {
   "cell_type": "code",
   "execution_count": 32,
   "id": "bbbfba99-96e3-47dc-ad20-ba2ba4ff2169",
   "metadata": {},
   "outputs": [],
   "source": [
    "from tensorflow.keras.models import Sequential\n",
    "from tensorflow.keras.layers import Flatten, MaxPooling2D, Dense, Conv2D"
   ]
  },
  {
   "cell_type": "code",
   "execution_count": 33,
   "id": "4aecb878-107c-45fb-b3de-588db0e6d017",
   "metadata": {},
   "outputs": [],
   "source": [
    "from tensorflow.keras.optimizers import Adam\n",
    "from tensorflow.keras.activations import softmax, relu"
   ]
  },
  {
   "cell_type": "code",
   "execution_count": 34,
   "id": "f6d9363b-44b6-4a0d-8baf-7fdaf60ed3d3",
   "metadata": {},
   "outputs": [],
   "source": [
    "from tensorflow.keras.losses import sparse_categorical_crossentropy"
   ]
  },
  {
   "cell_type": "code",
   "execution_count": 35,
   "id": "5f2f4b17-e73e-4966-8461-80ed768b8d6a",
   "metadata": {},
   "outputs": [],
   "source": [
    "model = Sequential([\n",
    "        \n",
    "    Conv2D(filters = 64, kernel_size = (3,3), activation = relu, input_shape=(32,32,3)),\n",
    "    MaxPooling2D((2,2)),\n",
    "    \n",
    "    Conv2D(filters = 32, kernel_size = (3,3), activation = relu),\n",
    "    MaxPooling2D((2,2)),\n",
    "    \n",
    "    \n",
    "    Flatten(),\n",
    "    Dense(32, activation = relu),\n",
    "    Dense(16, activation = relu),\n",
    "    Dense(3, activation = softmax),\n",
    "])"
   ]
  },
  {
   "cell_type": "code",
   "execution_count": 40,
   "id": "9335ff04-6dff-4266-b9ea-a1a29a601955",
   "metadata": {},
   "outputs": [],
   "source": [
    "model.compile(\n",
    "                optimizer = 'adam',\n",
    "                loss = sparse_categorical_crossentropy,\n",
    "                metrics = ['accuracy']\n",
    ")"
   ]
  },
  {
   "cell_type": "code",
   "execution_count": 41,
   "id": "fc95c73e-4130-44c9-9229-02a04050c058",
   "metadata": {},
   "outputs": [
    {
     "name": "stdout",
     "output_type": "stream",
     "text": [
      "Epoch 1/20\n",
      "33/33 [==============================] - 2s 30ms/step - loss: 3.3327 - accuracy: 0.5597\n",
      "Epoch 2/20\n",
      "33/33 [==============================] - 1s 21ms/step - loss: 0.4887 - accuracy: 0.7765\n",
      "Epoch 3/20\n",
      "33/33 [==============================] - 1s 21ms/step - loss: 0.2956 - accuracy: 0.8757\n",
      "Epoch 4/20\n",
      "33/33 [==============================] - 1s 25ms/step - loss: 0.1870 - accuracy: 0.9306\n",
      "Epoch 5/20\n",
      "33/33 [==============================] - 1s 26ms/step - loss: 0.1670 - accuracy: 0.9364\n",
      "Epoch 6/20\n",
      "33/33 [==============================] - 1s 24ms/step - loss: 0.0785 - accuracy: 0.9759\n",
      "Epoch 7/20\n",
      "33/33 [==============================] - 1s 18ms/step - loss: 0.1073 - accuracy: 0.9615\n",
      "Epoch 8/20\n",
      "33/33 [==============================] - 0s 14ms/step - loss: 0.0360 - accuracy: 0.9923\n",
      "Epoch 9/20\n",
      "33/33 [==============================] - 0s 13ms/step - loss: 0.0682 - accuracy: 0.9711\n",
      "Epoch 10/20\n",
      "33/33 [==============================] - 1s 16ms/step - loss: 0.0193 - accuracy: 0.9961\n",
      "Epoch 11/20\n",
      "33/33 [==============================] - 1s 15ms/step - loss: 0.0057 - accuracy: 0.9990\n",
      "Epoch 12/20\n",
      "33/33 [==============================] - 1s 16ms/step - loss: 0.0035 - accuracy: 1.0000\n",
      "Epoch 13/20\n",
      "33/33 [==============================] - 1s 18ms/step - loss: 0.0024 - accuracy: 1.0000\n",
      "Epoch 14/20\n",
      "33/33 [==============================] - 1s 22ms/step - loss: 0.0018 - accuracy: 1.0000\n",
      "Epoch 15/20\n",
      "33/33 [==============================] - 0s 13ms/step - loss: 0.0017 - accuracy: 1.0000\n",
      "Epoch 16/20\n",
      "33/33 [==============================] - 0s 12ms/step - loss: 0.0011 - accuracy: 1.0000\n",
      "Epoch 17/20\n",
      "33/33 [==============================] - 0s 14ms/step - loss: 0.0010 - accuracy: 1.0000\n",
      "Epoch 18/20\n",
      "33/33 [==============================] - 0s 14ms/step - loss: 9.9445e-04 - accuracy: 1.0000\n",
      "Epoch 19/20\n",
      "33/33 [==============================] - 1s 23ms/step - loss: 7.5144e-04 - accuracy: 1.0000\n",
      "Epoch 20/20\n",
      "33/33 [==============================] - 1s 16ms/step - loss: 6.3014e-04 - accuracy: 1.0000\n"
     ]
    },
    {
     "data": {
      "text/plain": [
       "<keras.callbacks.History at 0x1a2a387b130>"
      ]
     },
     "execution_count": 41,
     "metadata": {},
     "output_type": "execute_result"
    }
   ],
   "source": [
    "model.fit(x = x_train, y = y_train ,epochs = 20)"
   ]
  },
  {
   "cell_type": "markdown",
   "id": "51af4403-eff8-4ab4-b353-4674fe9e0569",
   "metadata": {},
   "source": [
    "6. Evaluating the model performance"
   ]
  },
  {
   "cell_type": "code",
   "execution_count": 51,
   "id": "c45e4647-709e-4070-b44a-b9714c319544",
   "metadata": {},
   "outputs": [
    {
     "name": "stdout",
     "output_type": "stream",
     "text": [
      "9/9 [==============================] - 0s 26ms/step - loss: 0.0062 - accuracy: 0.9962\n",
      "\n",
      "LOSS - 0.006185876205563545 | ACCURACY - 0.9961538314819336\n",
      "\n"
     ]
    }
   ],
   "source": [
    "loss, accuracy = model.evaluate(x_test,y_test)\n",
    "\n",
    "print(f\"\\nLOSS - {loss} | ACCURACY - {accuracy}\\n\")"
   ]
  },
  {
   "cell_type": "markdown",
   "id": "87dc3079-301e-42d1-ab65-e33eb47fdbdf",
   "metadata": {},
   "source": [
    "7. Confusion matrix to depict results"
   ]
  },
  {
   "cell_type": "code",
   "execution_count": 67,
   "id": "9cd1df96-b016-4135-acc1-0e5434afeddf",
   "metadata": {},
   "outputs": [
    {
     "name": "stdout",
     "output_type": "stream",
     "text": [
      "9/9 [==============================] - 0s 6ms/step\n"
     ]
    }
   ],
   "source": [
    "y_pred = model.predict(x_test)\n",
    "\n",
    "y_pred_actual = [ np.argmax(i) for i in y_pred ] \n",
    "\n",
    "y_test_actual = y_test.reshape(-1,)"
   ]
  },
  {
   "cell_type": "code",
   "execution_count": 96,
   "id": "032f5ed0-1c9e-4e0a-96e6-d33bbf215487",
   "metadata": {},
   "outputs": [
    {
     "data": {
      "image/png": "[encoded data removed]",
      "text/plain": [
       "<Figure size 500x400 with 2 Axes>"
      ]
     },
     "metadata": {},
     "output_type": "display_data"
    }
   ],
   "source": [
    "from sklearn.metrics import confusion_matrix\n",
    "import seaborn as sns\n",
    "\n",
    "cm = confusion_matrix(y_test_actual, y_pred_actual)\n",
    "\n",
    "plt.figure( figsize = (5,4) )\n",
    "sns.heatmap( cm, annot=True, fmt = '' )\n",
    "plt.show()"
   ]
  },
  {
   "cell_type": "markdown",
   "id": "195fb555-d9e0-4e3b-a3db-497899b5faae",
   "metadata": {},
   "source": [
    "8. Save the model for further use"
   ]
  },
  {
   "cell_type": "code",
   "execution_count": 106,
   "id": "b0c23577-d89d-4594-8a74-f24a75019a90",
   "metadata": {},
   "outputs": [],
   "source": [
    "model.save(\"apple_banana_guava_classification\")"
   ]
  },
  {
   "cell_type": "markdown",
   "id": "7b5622c8-df0f-460e-b2d0-f4767cdc7354",
   "metadata": {},
   "source": [
    "9. Conclusion"
   ]
  },
  {
   "cell_type": "code",
   "execution_count": 120,
   "id": "84853dc8-1d5f-49f6-929e-a2d8cfa96a5a",
   "metadata": {},
   "outputs": [
    {
     "name": "stdout",
     "output_type": "stream",
     "text": [
      "\n",
      " GUAVA \n",
      "\n"
     ]
    },
    {
     "data": {
      "image/png": "[encoded data removed]",
      "text/plain": [
       "<Figure size 200x200 with 1 Axes>"
      ]
     },
     "metadata": {},
     "output_type": "display_data"
    }
   ],
   "source": [
    "# Lets see the test data images and  there classified names\n",
    "\n",
    "fruits = ['APPLE', 'BANANA', 'GUAVA']\n",
    "\n",
    "def show(index): # index should be >>>   0 >= index < 260  cause the length of the test data is 260.\n",
    "     \n",
    "    print('\\n',fruits[ y_pred_actual[index] ],'\\n')\n",
    "    \n",
    "    plt.figure(figsize = (2,2) )\n",
    "    plt.imshow(x_test[index])\n",
    "\n",
    "show(220)    "
   ]
  },
  {
   "cell_type": "code",
   "execution_count": 119,
   "id": "957596bc-fed0-4429-a321-cbd64325aea3",
   "metadata": {},
   "outputs": [
    {
     "name": "stdout",
     "output_type": "stream",
     "text": [
      "\n",
      " APPLE \n",
      "\n"
     ]
    },
    {
     "data": {
      "image/png": "[encoded data removed]",
      "text/plain": [
       "<Figure size 200x200 with 1 Axes>"
      ]
     },
     "metadata": {},
     "output_type": "display_data"
    }
   ],
   "source": [
    "show(40)"
   ]
  },
  {
   "cell_type": "markdown",
   "id": "65f63ada-2353-4ff5-a6d7-0688abf53de7",
   "metadata": {},
   "source": [
    "10. Inference"
   ]
  },
  {
   "cell_type": "markdown",
   "id": "9afbbb4e-393a-4389-86b7-33401e7b87dd",
   "metadata": {},
   "source": [
    "At the end of the model training using train_data and evaluation using test_data we can make an cessation outcomes are so accurate with an \n",
    "good score by the way the size of the data set is petite around 1300 records.\n",
    "\n",
    "We will be elucidate the results by taking look on confusion matrix how the model is performed robustly.\n",
    "\n",
    "# Thanks to data augmentation \n"
   ]
  }
 ],
 "metadata": {
  "kernelspec": {
   "display_name": "Python [conda env:tf_use]",
   "language": "python",
   "name": "conda-env-tf_use-py"
  },
  "language_info": {
   "codemirror_mode": {
    "name": "ipython",
    "version": 3
   },
   "file_extension": ".py",
   "mimetype": "text/x-python",
   "name": "python",
   "nbconvert_exporter": "python",
   "pygments_lexer": "ipython3",
   "version": "3.8.0"
  }
 },
 "nbformat": 4,
 "nbformat_minor": 5
}

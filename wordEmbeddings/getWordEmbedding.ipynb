{
 "cells": [
  {
   "cell_type": "markdown",
   "id": "b4043709-7d29-49b3-8228-3e8740d40fa8",
   "metadata": {},
   "source": [
    "This is an supervised learning technique to obtain a word embeddings (Vector). "
   ]
  },
  {
   "cell_type": "code",
   "execution_count": 2,
   "id": "42abc031-95ea-49ca-bd1d-e74f6c219b6c",
   "metadata": {},
   "outputs": [],
   "source": [
    "from tensorflow.keras.models import Sequential\n",
    "from tensorflow.keras.layers import Dense, Flatten , Embedding\n",
    "from tensorflow.keras.preprocessing.text import one_hot\n",
    "from tensorflow.keras.preprocessing.sequence import pad_sequences"
   ]
  },
  {
   "cell_type": "markdown",
   "id": "ea494bcf-a7a4-4aca-8689-1ac3a02039f1",
   "metadata": {},
   "source": [
    "We obtain a word vector by performing some any dummy operation on text corpus."
   ]
  },
  {
   "cell_type": "markdown",
   "id": "f7a6feb2-693a-4221-9bde-a602d23ec478",
   "metadata": {},
   "source": [
    "The below text data which is used to obtain a word embedding, <mark  style = \"background-color:khaki;\">  but vectors are viable & reliable when they trained on large corpus. </mark>"
   ]
  },
  {
   "cell_type": "code",
   "execution_count": 3,
   "id": "77742216-a1ed-44bf-afba-976ff212d7b5",
   "metadata": {},
   "outputs": [],
   "source": [
    "reviews = [ 'nice food',\n",
    "            'amazing restaurant ',\n",
    "            'too good' ,\n",
    "            'just loved it' ,\n",
    "            'will go again',\n",
    "            'horrible food' ,\n",
    "            'never go there' ,\n",
    "            'poor service' ,\n",
    "            'poor quality ' ,\n",
    "            'needs improvement' ] \n",
    "\n",
    "sentiment = [1, 1, 1, 1, 1, 0, 0, 0, 0, 0]"
   ]
  },
  {
   "cell_type": "markdown",
   "id": "317ae9d1-53d2-4e7e-802a-fb2c4418e5fc",
   "metadata": {},
   "source": [
    "Data preprocessing | Feature Engineering"
   ]
  },
  {
   "cell_type": "code",
   "execution_count": 4,
   "id": "8dc70dd3-06cd-4f11-b6d4-0bc44f30d1d9",
   "metadata": {},
   "outputs": [
    {
     "name": "stdout",
     "output_type": "stream",
     "text": [
      "nice food - > [2, 5]\n"
     ]
    }
   ],
   "source": [
    "i = 0  \n",
    "print(reviews[i], one_hot(reviews[i],10), sep=' - > ')"
   ]
  },
  {
   "cell_type": "code",
   "execution_count": 33,
   "id": "72d48e29-c72a-4b0c-8616-b13992c39ec6",
   "metadata": {},
   "outputs": [
    {
     "data": {
      "text/plain": [
       "[[38, 14],\n",
       " [39, 27],\n",
       " [20, 4],\n",
       " [39, 9, 33],\n",
       " [3, 3, 3],\n",
       " [32, 14],\n",
       " [16, 3, 6],\n",
       " [31, 25],\n",
       " [31, 12],\n",
       " [10, 29]]"
      ]
     },
     "execution_count": 33,
     "metadata": {},
     "output_type": "execute_result"
    }
   ],
   "source": [
    "vocab_size = 40\n",
    "ohe_reviews = [ one_hot(d, vocab_size) for d in reviews ]\n",
    "\n",
    "ohe_reviews"
   ]
  },
  {
   "cell_type": "code",
   "execution_count": 34,
   "id": "92c60792-4e9f-4d07-b18c-aa5d383bcddc",
   "metadata": {},
   "outputs": [
    {
     "data": {
      "text/plain": [
       "array([[38, 14,  0],\n",
       "       [39, 27,  0],\n",
       "       [20,  4,  0],\n",
       "       [39,  9, 33],\n",
       "       [ 3,  3,  3],\n",
       "       [32, 14,  0],\n",
       "       [16,  3,  6],\n",
       "       [31, 25,  0],\n",
       "       [31, 12,  0],\n",
       "       [10, 29,  0]])"
      ]
     },
     "execution_count": 34,
     "metadata": {},
     "output_type": "execute_result"
    }
   ],
   "source": [
    "# Function to get optimal input_len\n",
    "\n",
    "def get_len(ohe_data ,by = 0):\n",
    "    return max( [ len(i) for i in ohe_data ] ) + by\n",
    "    \n",
    "input_len = get_len(ohe_reviews)\n",
    "x = pad_sequences(ohe_reviews, maxlen=input_len, padding='post')\n",
    "x"
   ]
  },
  {
   "cell_type": "markdown",
   "id": "3495c3b8-02c6-4a5a-868b-96ab5a113273",
   "metadata": {},
   "source": [
    "- Model building"
   ]
  },
  {
   "cell_type": "code",
   "execution_count": 35,
   "id": "ba42ed75-1502-4f0a-a1a8-1d8fc27ce679",
   "metadata": {},
   "outputs": [
    {
     "data": {
      "text/plain": [
       "array([[1],\n",
       "       [1],\n",
       "       [1],\n",
       "       [1],\n",
       "       [1],\n",
       "       [0],\n",
       "       [0],\n",
       "       [0],\n",
       "       [0],\n",
       "       [0]])"
      ]
     },
     "execution_count": 35,
     "metadata": {},
     "output_type": "execute_result"
    }
   ],
   "source": [
    "import numpy as np\n",
    "\n",
    "X=x\n",
    "Y = np.array(sentiment)\n",
    "Y.reshape(-1,1)"
   ]
  },
  {
   "cell_type": "code",
   "execution_count": 36,
   "id": "959b41e5-a003-42b6-9b75-98cc160f6a03",
   "metadata": {},
   "outputs": [
    {
     "name": "stdout",
     "output_type": "stream",
     "text": [
      "Model: \"sequential_1\"\n",
      "_________________________________________________________________\n",
      " Layer (type)                Output Shape              Param #   \n",
      "=================================================================\n",
      " embedding (Embedding)       (None, 3, 4)              160       \n",
      "                                                                 \n",
      " flatten_1 (Flatten)         (None, 12)                0         \n",
      "                                                                 \n",
      " dense_1 (Dense)             (None, 1)                 13        \n",
      "                                                                 \n",
      "=================================================================\n",
      "Total params: 173\n",
      "Trainable params: 173\n",
      "Non-trainable params: 0\n",
      "_________________________________________________________________\n"
     ]
    }
   ],
   "source": [
    "output_dim = 4\n",
    "\n",
    "model = Sequential()\n",
    "model.add(Embedding( vocab_size, output_dim, input_length = input_len, name = 'embedding'  ))\n",
    "model.add(Flatten())\n",
    "model.add(Dense(1, activation = 'sigmoid'))\n",
    "\n",
    "model.summary()"
   ]
  },
  {
   "cell_type": "code",
   "execution_count": 37,
   "id": "728d2f53-387d-414d-af05-a974c08974f4",
   "metadata": {},
   "outputs": [],
   "source": [
    "model.compile(\n",
    "    \n",
    "    optimizer = 'adam',\n",
    "    \n",
    "    loss = 'binary_crossentropy',\n",
    "    \n",
    "    metrics = ['accuracy']\n",
    ")"
   ]
  },
  {
   "cell_type": "code",
   "execution_count": 41,
   "id": "7f6ddc85-88ac-44ca-9358-16dd946f41ee",
   "metadata": {},
   "outputs": [
    {
     "data": {
      "text/plain": [
       "<keras.callbacks.History at 0x1b9aab13070>"
      ]
     },
     "execution_count": 41,
     "metadata": {},
     "output_type": "execute_result"
    }
   ],
   "source": [
    "model.fit(X, Y, epochs=50,verbose= 0)"
   ]
  },
  {
   "cell_type": "code",
   "execution_count": 42,
   "id": "40c96687-3d85-4468-9624-a70a9369c288",
   "metadata": {},
   "outputs": [
    {
     "data": {
      "text/plain": [
       "40"
      ]
     },
     "execution_count": 42,
     "metadata": {},
     "output_type": "execute_result"
    }
   ],
   "source": [
    "vectors = model.get_layer(\"embedding\").get_weights()[0]\n",
    "len(vectors)"
   ]
  },
  {
   "cell_type": "code",
   "execution_count": 43,
   "id": "9e2232a7-dcb9-4ac6-bf9c-c05556f6c0f1",
   "metadata": {},
   "outputs": [
    {
     "name": "stdout",
     "output_type": "stream",
     "text": [
      "nice food  - >   [38 14  0]\n",
      "amazing restaurant   - >   [39 27  0]\n",
      "too good  - >   [20  4  0]\n",
      "just loved it  - >   [39  9 33]\n",
      "will go again  - >   [3 3 3]\n",
      "horrible food  - >   [32 14  0]\n",
      "never go there  - >   [16  3  6]\n",
      "poor service  - >   [31 25  0]\n",
      "poor quality   - >   [31 12  0]\n",
      "needs improvement  - >   [10 29  0]\n"
     ]
    }
   ],
   "source": [
    "j = 0\n",
    "for i in reviews:\n",
    "    print(i,' - >  ',x[j])\n",
    "    j -=- 1"
   ]
  },
  {
   "cell_type": "markdown",
   "id": "162dc614-e24d-4e44-b843-e158e8d9f1aa",
   "metadata": {},
   "source": [
    "<mark style = \"background-color: darkcyan;\"> Select the vectors on basis of words index which are illustrated above. </mark>"
   ]
  },
  {
   "cell_type": "code",
   "execution_count": 46,
   "id": "1f0f46cc-39d1-4ff7-838d-6936ecab8ca2",
   "metadata": {},
   "outputs": [
    {
     "data": {
      "text/plain": [
       "array([0.10989111, 0.14360538, 0.1652687 , 0.17399621], dtype=float32)"
      ]
     },
     "execution_count": 46,
     "metadata": {},
     "output_type": "execute_result"
    }
   ],
   "source": [
    "vectors[38] # For word ' nice '"
   ]
  },
  {
   "cell_type": "code",
   "execution_count": 47,
   "id": "3bfff3c0-5065-4433-85e2-69c5f35352cb",
   "metadata": {},
   "outputs": [
    {
     "data": {
      "text/plain": [
       "array([0.1857583 , 0.15475813, 0.16207132, 0.16707481], dtype=float32)"
      ]
     },
     "execution_count": 47,
     "metadata": {},
     "output_type": "execute_result"
    }
   ],
   "source": [
    "vectors[39] # For word ' Amazing ' "
   ]
  },
  {
   "cell_type": "markdown",
   "id": "6a8476ed-073b-4b2b-89cd-696b6396cb65",
   "metadata": {},
   "source": [
    "1. This is the similarity score between the word <mark> amazing </mark> and <mark> nice. </mark>"
   ]
  },
  {
   "cell_type": "code",
   "execution_count": 70,
   "id": "d3b429fb-8721-4d31-bcae-cd759e8b3cee",
   "metadata": {},
   "outputs": [
    {
     "name": "stdout",
     "output_type": "stream",
     "text": [
      "Similarity score - 0.9766783\n"
     ]
    }
   ],
   "source": [
    "from sklearn.metrics.pairwise import *\n",
    "\n",
    "score = cosine_similarity( vectors[38].reshape(1,-1),vectors[39].reshape(1,-1) )\n",
    "print('Similarity score - ' + str(score[0][0]))"
   ]
  },
  {
   "cell_type": "markdown",
   "id": "bac5f2f8-2116-44a2-b710-0f84d888249f",
   "metadata": {},
   "source": [
    "1. This is the similarity score between the word <mark> horrible  </mark> and <mark> poor. </mark>"
   ]
  },
  {
   "cell_type": "code",
   "execution_count": 73,
   "id": "2253e3c3-8332-4048-89f9-123f6bc8043a",
   "metadata": {},
   "outputs": [
    {
     "name": "stdout",
     "output_type": "stream",
     "text": [
      "Similarity score - 0.9777903\n"
     ]
    }
   ],
   "source": [
    "score = cosine_similarity( vectors[32].reshape(1,-1),vectors[31].reshape(1,-1) )\n",
    "print('Similarity score - ' + str(score[0][0]))"
   ]
  },
  {
   "cell_type": "markdown",
   "id": "e8910b8e-7bc4-41c9-a793-15d1fb974f7f",
   "metadata": {
    "tags": []
   },
   "source": [
    "\n",
    "<h2 style = \"color:darkgray;\">' CONCLUSIVELY WE OBTAINED THE RESULTS '</h2>\n"
   ]
  }
 ],
 "metadata": {
  "kernelspec": {
   "display_name": "Python [conda env:tf_use]",
   "language": "python",
   "name": "conda-env-tf_use-py"
  },
  "language_info": {
   "codemirror_mode": {
    "name": "ipython",
    "version": 3
   },
   "file_extension": ".py",
   "mimetype": "text/x-python",
   "name": "python",
   "nbconvert_exporter": "python",
   "pygments_lexer": "ipython3",
   "version": "3.8.0"
  }
 },
 "nbformat": 4,
 "nbformat_minor": 5
}
